{
  "nbformat": 4,
  "nbformat_minor": 0,
  "metadata": {
    "kernelspec": {
      "display_name": "Python 3",
      "language": "python",
      "name": "python3"
    },
    "language_info": {
      "codemirror_mode": {
        "name": "ipython",
        "version": 3
      },
      "file_extension": ".py",
      "mimetype": "text/x-python",
      "name": "python",
      "nbconvert_exporter": "python",
      "pygments_lexer": "ipython3",
      "version": "3.8.3"
    },
    "colab": {
      "name": "Task-1  Student Score Prediction Using SLR.ipynb",
      "provenance": [],
      "collapsed_sections": []
    }
  },
  "cells": [
    {
      "cell_type": "markdown",
      "metadata": {
        "id": "uMPCcWCRS8QP"
      },
      "source": [
        "# VEZHAVENTHAN N"
      ]
    },
    {
      "cell_type": "markdown",
      "metadata": {
        "id": "b2TDVpQlS8QS"
      },
      "source": [
        "# <center>Task01-Supervised Learning-Predict Student Marks"
      ]
    },
    {
      "cell_type": "markdown",
      "metadata": {
        "id": "ay9wKb2yS8QU"
      },
      "source": [
        "###  Steps are involved in this Task\n",
        "<li>Import Libraries\n",
        "<li>Load dataset\n",
        "<li>Visualize the actual data\n",
        "<li>Apply the SLR model to Training(Simple Linear Regression)\n",
        "<li>Model Ready to predict\n",
        "<li>Visualize actual versus predict\n",
        "<li>Task check\n",
        "<li>Evaluate the model\n"
      ]
    },
    {
      "cell_type": "markdown",
      "metadata": {
        "id": "QZmJ-7YdS8QW"
      },
      "source": [
        "### Libraries"
      ]
    },
    {
      "cell_type": "code",
      "metadata": {
        "id": "eIiQP5OnS8QX"
      },
      "source": [
        "#numerical python\n",
        "import numpy as np\n",
        "#Load and preprocess dataset library\n",
        "import pandas as pd\n",
        "#visualization\n",
        "import matplotlib.pyplot as plt\n"
      ],
      "execution_count": null,
      "outputs": []
    },
    {
      "cell_type": "markdown",
      "metadata": {
        "id": "FCT4ShLrS8QY"
      },
      "source": [
        "### Load dataset through pandas library"
      ]
    },
    {
      "cell_type": "code",
      "metadata": {
        "id": "Tqf8L2gOS8QZ"
      },
      "source": [
        "url = \"http://bit.ly/w-data\"\n",
        "df = pd.read_csv(url)"
      ],
      "execution_count": null,
      "outputs": []
    },
    {
      "cell_type": "markdown",
      "metadata": {
        "id": "414I-qncS8QZ"
      },
      "source": [
        "### Read record"
      ]
    },
    {
      "cell_type": "code",
      "metadata": {
        "scrolled": true,
        "id": "44j7qYclS8Qa",
        "outputId": "7fa7c9aa-fc9b-433f-9e82-ea6152f91da9"
      },
      "source": [
        "df.head()"
      ],
      "execution_count": null,
      "outputs": [
        {
          "output_type": "execute_result",
          "data": {
            "text/html": [
              "<div>\n",
              "<style scoped>\n",
              "    .dataframe tbody tr th:only-of-type {\n",
              "        vertical-align: middle;\n",
              "    }\n",
              "\n",
              "    .dataframe tbody tr th {\n",
              "        vertical-align: top;\n",
              "    }\n",
              "\n",
              "    .dataframe thead th {\n",
              "        text-align: right;\n",
              "    }\n",
              "</style>\n",
              "<table border=\"1\" class=\"dataframe\">\n",
              "  <thead>\n",
              "    <tr style=\"text-align: right;\">\n",
              "      <th></th>\n",
              "      <th>Hours</th>\n",
              "      <th>Scores</th>\n",
              "    </tr>\n",
              "  </thead>\n",
              "  <tbody>\n",
              "    <tr>\n",
              "      <th>0</th>\n",
              "      <td>2.5</td>\n",
              "      <td>21</td>\n",
              "    </tr>\n",
              "    <tr>\n",
              "      <th>1</th>\n",
              "      <td>5.1</td>\n",
              "      <td>47</td>\n",
              "    </tr>\n",
              "    <tr>\n",
              "      <th>2</th>\n",
              "      <td>3.2</td>\n",
              "      <td>27</td>\n",
              "    </tr>\n",
              "    <tr>\n",
              "      <th>3</th>\n",
              "      <td>8.5</td>\n",
              "      <td>75</td>\n",
              "    </tr>\n",
              "    <tr>\n",
              "      <th>4</th>\n",
              "      <td>3.5</td>\n",
              "      <td>30</td>\n",
              "    </tr>\n",
              "  </tbody>\n",
              "</table>\n",
              "</div>"
            ],
            "text/plain": [
              "   Hours  Scores\n",
              "0    2.5      21\n",
              "1    5.1      47\n",
              "2    3.2      27\n",
              "3    8.5      75\n",
              "4    3.5      30"
            ]
          },
          "metadata": {
            "tags": []
          },
          "execution_count": 3
        }
      ]
    },
    {
      "cell_type": "markdown",
      "metadata": {
        "id": "3nWiBdWrS8Qb"
      },
      "source": [
        "### Basic information about data"
      ]
    },
    {
      "cell_type": "code",
      "metadata": {
        "scrolled": true,
        "id": "XOg4WwRMS8Qb",
        "outputId": "10b3ca00-f334-4cb7-8eea-13d352f0bf42"
      },
      "source": [
        "df.info()"
      ],
      "execution_count": null,
      "outputs": [
        {
          "output_type": "stream",
          "text": [
            "<class 'pandas.core.frame.DataFrame'>\n",
            "RangeIndex: 25 entries, 0 to 24\n",
            "Data columns (total 2 columns):\n",
            " #   Column  Non-Null Count  Dtype  \n",
            "---  ------  --------------  -----  \n",
            " 0   Hours   25 non-null     float64\n",
            " 1   Scores  25 non-null     int64  \n",
            "dtypes: float64(1), int64(1)\n",
            "memory usage: 528.0 bytes\n"
          ],
          "name": "stdout"
        }
      ]
    },
    {
      "cell_type": "markdown",
      "metadata": {
        "id": "CxtyQBhPS8Qc"
      },
      "source": [
        "### Visualize the data"
      ]
    },
    {
      "cell_type": "code",
      "metadata": {
        "scrolled": true,
        "id": "mkjYJtghS8Qd",
        "outputId": "17d5fc7a-a5cf-477a-b768-8436ca4a3065"
      },
      "source": [
        "plt.xlabel('No of Hours Per day')\n",
        "plt.ylabel('Scores of Students')\n",
        "plt.title('Study Hours Vs Student scores')\n",
        "plt.scatter(x='Hours',y='Scores',data= df,marker='o',color='blue')\n",
        "\n",
        "plt.show()"
      ],
      "execution_count": null,
      "outputs": [
        {
          "output_type": "display_data",
          "data": {
            "image/png": "[encoded data removed]",
            "text/plain": [
              "<Figure size 432x288 with 1 Axes>"
            ]
          },
          "metadata": {
            "tags": [],
            "needs_background": "light"
          }
        }
      ]
    },
    {
      "cell_type": "markdown",
      "metadata": {
        "id": "rjO8TYseS8Qe"
      },
      "source": [
        "### select x, y that means independent and dependent data"
      ]
    },
    {
      "cell_type": "markdown",
      "metadata": {
        "id": "pemMzDcbS8Qe"
      },
      "source": [
        "Its is supervised learning(labeled data) so we can select x,y "
      ]
    },
    {
      "cell_type": "code",
      "metadata": {
        "id": "43ZiEe78S8Qf"
      },
      "source": [
        "x=df.iloc[:, :-1].values\n",
        "y=df.iloc[:,1].values"
      ],
      "execution_count": null,
      "outputs": []
    },
    {
      "cell_type": "markdown",
      "metadata": {
        "id": "ikpEY7DWS8Qg"
      },
      "source": [
        "### Split train and test "
      ]
    },
    {
      "cell_type": "markdown",
      "metadata": {
        "id": "I1ZM9cbkS8Qh"
      },
      "source": [
        "Here 80% training and 20% testing data"
      ]
    },
    {
      "cell_type": "code",
      "metadata": {
        "id": "Ng-NbcwQS8Qi"
      },
      "source": [
        "from sklearn.model_selection import train_test_split\n"
      ],
      "execution_count": null,
      "outputs": []
    },
    {
      "cell_type": "code",
      "metadata": {
        "id": "Zj11FWOuS8Qj"
      },
      "source": [
        "x_train,x_test,y_train,y_test=train_test_split(x,y,test_size=0.2,random_state=0)"
      ],
      "execution_count": null,
      "outputs": []
    },
    {
      "cell_type": "markdown",
      "metadata": {
        "id": "s7_afndDS8Qo"
      },
      "source": [
        "### Apply Linear Regression "
      ]
    },
    {
      "cell_type": "code",
      "metadata": {
        "id": "MWUeHVHCS8Qs"
      },
      "source": [
        "from sklearn.linear_model import LinearRegression"
      ],
      "execution_count": null,
      "outputs": []
    },
    {
      "cell_type": "markdown",
      "metadata": {
        "id": "9IRuqWPgS8Qv"
      },
      "source": [
        "### Create instance"
      ]
    },
    {
      "cell_type": "code",
      "metadata": {
        "id": "U_SePPHfS8Qw"
      },
      "source": [
        "LR=LinearRegression()"
      ],
      "execution_count": null,
      "outputs": []
    },
    {
      "cell_type": "markdown",
      "metadata": {
        "id": "6TWk_P20S8Q0"
      },
      "source": [
        "### Train the model"
      ]
    },
    {
      "cell_type": "code",
      "metadata": {
        "id": "othr2DMoS8Q1",
        "outputId": "fadd8603-00ac-492a-a095-604de6342cdf"
      },
      "source": [
        "LR.fit(x_train,y_train)"
      ],
      "execution_count": null,
      "outputs": [
        {
          "output_type": "execute_result",
          "data": {
            "text/plain": [
              "LinearRegression()"
            ]
          },
          "metadata": {
            "tags": []
          },
          "execution_count": 11
        }
      ]
    },
    {
      "cell_type": "markdown",
      "metadata": {
        "id": "Zd9oi8lmS8Q2"
      },
      "source": [
        "### Draw predict value through line equation"
      ]
    },
    {
      "cell_type": "markdown",
      "metadata": {
        "id": "6BxOe21fS8Q3"
      },
      "source": [
        "y=mx+C,, \n",
        " m means co-efficients, c means intercept, x is input data"
      ]
    },
    {
      "cell_type": "markdown",
      "metadata": {
        "id": "HqyV1JvzS8Q3"
      },
      "source": [
        "#### Find Intercept and co-efficients"
      ]
    },
    {
      "cell_type": "code",
      "metadata": {
        "id": "wLg3Sh0gS8Q4",
        "outputId": "95466bee-4a3a-40e5-ac90-703acc1f7953"
      },
      "source": [
        "m=LR.coef_\n",
        "print('The co-efficients is',m)"
      ],
      "execution_count": null,
      "outputs": [
        {
          "output_type": "stream",
          "text": [
            "The co-efficients is [9.91065648]\n"
          ],
          "name": "stdout"
        }
      ]
    },
    {
      "cell_type": "code",
      "metadata": {
        "id": "QQQRXI94S8Q5",
        "outputId": "10b6cdfb-5c73-48d0-b21b-a12aa30861dd"
      },
      "source": [
        "c=LR.intercept_\n",
        "print('The intercept is',c)"
      ],
      "execution_count": null,
      "outputs": [
        {
          "output_type": "stream",
          "text": [
            "The intercept is 2.018160041434662\n"
          ],
          "name": "stdout"
        }
      ]
    },
    {
      "cell_type": "code",
      "metadata": {
        "id": "6isbbIs1S8Q6",
        "outputId": "db04bf1d-7d70-4dd3-be06-d72906431137"
      },
      "source": [
        "line_equation=m*x+c\n",
        "line_equation"
      ],
      "execution_count": null,
      "outputs": [
        {
          "output_type": "execute_result",
          "data": {
            "text/plain": [
              "array([[26.79480124],\n",
              "       [52.56250809],\n",
              "       [33.73226078],\n",
              "       [86.25874013],\n",
              "       [36.70545772],\n",
              "       [16.88414476],\n",
              "       [93.19619966],\n",
              "       [56.52677068],\n",
              "       [84.27660883],\n",
              "       [28.77693254],\n",
              "       [78.33021494],\n",
              "       [60.49103328],\n",
              "       [46.6161142 ],\n",
              "       [34.72332643],\n",
              "       [12.91988217],\n",
              "       [90.22300272],\n",
              "       [26.79480124],\n",
              "       [20.84840735],\n",
              "       [62.47316457],\n",
              "       [75.357018  ],\n",
              "       [28.77693254],\n",
              "       [49.58931115],\n",
              "       [39.67865467],\n",
              "       [70.40168976],\n",
              "       [79.32128059]])"
            ]
          },
          "metadata": {
            "tags": []
          },
          "execution_count": 14
        }
      ]
    },
    {
      "cell_type": "code",
      "metadata": {
        "id": "EW2A1MWyS8Q7",
        "outputId": "de6b7f1a-207e-4ae4-9b60-b958d5a5155d"
      },
      "source": [
        "plt.scatter(x,y)\n",
        "plt.plot(x,line_equation,color='red')\n",
        "plt.title('Actual vs Predict')\n",
        "plt.xlabel('No of Hours')\n",
        "plt.ylabel(' Scores')\n",
        "plt.show()"
      ],
      "execution_count": null,
      "outputs": [
        {
          "output_type": "display_data",
          "data": {
            "image/png": "[encoded data removed]",
            "text/plain": [
              "<Figure size 432x288 with 1 Axes>"
            ]
          },
          "metadata": {
            "tags": [],
            "needs_background": "light"
          }
        }
      ]
    },
    {
      "cell_type": "markdown",
      "metadata": {
        "id": "j1qwBPZtS8Q8"
      },
      "source": [
        "### Prediction"
      ]
    },
    {
      "cell_type": "code",
      "metadata": {
        "id": "JtfX-xrxS8Q9",
        "outputId": "8abd3f89-5eca-42f1-abe2-402a74affd52"
      },
      "source": [
        "print(x_test)\n",
        "y_pred=LR.predict(x_test)"
      ],
      "execution_count": null,
      "outputs": [
        {
          "output_type": "stream",
          "text": [
            "[[1.5]\n",
            " [3.2]\n",
            " [7.4]\n",
            " [2.5]\n",
            " [5.9]]\n"
          ],
          "name": "stdout"
        }
      ]
    },
    {
      "cell_type": "code",
      "metadata": {
        "id": "V-fQ18MlS8Q9",
        "outputId": "aeadfb38-5c2d-48c0-a2bb-a043e0961eec"
      },
      "source": [
        "new_df=pd.DataFrame({'Actual':y_test,'Predict':y_pred})\n",
        "new_df"
      ],
      "execution_count": null,
      "outputs": [
        {
          "output_type": "execute_result",
          "data": {
            "text/html": [
              "<div>\n",
              "<style scoped>\n",
              "    .dataframe tbody tr th:only-of-type {\n",
              "        vertical-align: middle;\n",
              "    }\n",
              "\n",
              "    .dataframe tbody tr th {\n",
              "        vertical-align: top;\n",
              "    }\n",
              "\n",
              "    .dataframe thead th {\n",
              "        text-align: right;\n",
              "    }\n",
              "</style>\n",
              "<table border=\"1\" class=\"dataframe\">\n",
              "  <thead>\n",
              "    <tr style=\"text-align: right;\">\n",
              "      <th></th>\n",
              "      <th>Actual</th>\n",
              "      <th>Predict</th>\n",
              "    </tr>\n",
              "  </thead>\n",
              "  <tbody>\n",
              "    <tr>\n",
              "      <th>0</th>\n",
              "      <td>20</td>\n",
              "      <td>16.884145</td>\n",
              "    </tr>\n",
              "    <tr>\n",
              "      <th>1</th>\n",
              "      <td>27</td>\n",
              "      <td>33.732261</td>\n",
              "    </tr>\n",
              "    <tr>\n",
              "      <th>2</th>\n",
              "      <td>69</td>\n",
              "      <td>75.357018</td>\n",
              "    </tr>\n",
              "    <tr>\n",
              "      <th>3</th>\n",
              "      <td>30</td>\n",
              "      <td>26.794801</td>\n",
              "    </tr>\n",
              "    <tr>\n",
              "      <th>4</th>\n",
              "      <td>62</td>\n",
              "      <td>60.491033</td>\n",
              "    </tr>\n",
              "  </tbody>\n",
              "</table>\n",
              "</div>"
            ],
            "text/plain": [
              "   Actual    Predict\n",
              "0      20  16.884145\n",
              "1      27  33.732261\n",
              "2      69  75.357018\n",
              "3      30  26.794801\n",
              "4      62  60.491033"
            ]
          },
          "metadata": {
            "tags": []
          },
          "execution_count": 17
        }
      ]
    },
    {
      "cell_type": "markdown",
      "metadata": {
        "id": "iUi3i_MAS8Q-"
      },
      "source": [
        "# Task"
      ]
    },
    {
      "cell_type": "code",
      "metadata": {
        "scrolled": true,
        "id": "aLISBWfvS8Q_",
        "outputId": "a44436e0-0d1d-424d-c90e-d9b28903a14a"
      },
      "source": [
        "input_Hours=9.25\n",
        "result=LR.predict([[input_Hours]])\n",
        "print('Students spend{0} per day, Then they got {1} marks' .format(input_Hours, result[0]))"
      ],
      "execution_count": null,
      "outputs": [
        {
          "output_type": "stream",
          "text": [
            "Students spend9.25 per day, Then they got 93.69173248737539 marks\n"
          ],
          "name": "stdout"
        }
      ]
    },
    {
      "cell_type": "markdown",
      "metadata": {
        "id": "kIsB6MyeS8Q_"
      },
      "source": [
        "### Evaluate the model"
      ]
    },
    {
      "cell_type": "code",
      "metadata": {
        "id": "fJcFsRnyS8RA"
      },
      "source": [
        "from sklearn import metrics\n"
      ],
      "execution_count": null,
      "outputs": []
    },
    {
      "cell_type": "code",
      "metadata": {
        "id": "sPTJaLz8S8RA",
        "outputId": "0c942141-b987-4a73-9349-bce3ccc6abd6"
      },
      "source": [
        "print('Mean Absolute Error(Actual-predict)',metrics.mean_absolute_error(y_test,y_pred))"
      ],
      "execution_count": null,
      "outputs": [
        {
          "output_type": "stream",
          "text": [
            "Mean Absolute Error(Actual-predict) 4.183859899002982\n"
          ],
          "name": "stdout"
        }
      ]
    },
    {
      "cell_type": "code",
      "metadata": {
        "id": "wIYaqUdDS8RB",
        "outputId": "0c70dfcd-420a-4430-848b-195e09d88535"
      },
      "source": [
        "print('Mean Squared Error(Actual-predict)^2 is   ',metrics.mean_squared_error(y_test,y_pred))"
      ],
      "execution_count": null,
      "outputs": [
        {
          "output_type": "stream",
          "text": [
            "Mean Squared Error(Actual-predict)^2 is    21.598769307217456\n"
          ],
          "name": "stdout"
        }
      ]
    },
    {
      "cell_type": "code",
      "metadata": {
        "id": "PJjpcvNCS8RB",
        "outputId": "838d3ec6-5789-42e1-f8c6-ac4bf5c741d0"
      },
      "source": [
        "print('Root Mean Squared Error Root of(Actual-predict)^2 is  ',np.sqrt(metrics.mean_squared_error(y_test,y_pred)))"
      ],
      "execution_count": null,
      "outputs": [
        {
          "output_type": "stream",
          "text": [
            "Root Mean Squared Error Root of(Actual-predict)^2 is   4.647447612100373\n"
          ],
          "name": "stdout"
        }
      ]
    },
    {
      "cell_type": "code",
      "metadata": {
        "id": "DHlamatAS8RD"
      },
      "source": [
        ""
      ],
      "execution_count": null,
      "outputs": []
    }
  ]
}